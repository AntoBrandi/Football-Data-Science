{
 "cells": [
  {
   "cell_type": "code",
   "execution_count": 10,
   "metadata": {},
   "outputs": [],
   "source": [
    "# let's plot some data and get more familiar with the library matplotlib\n",
    "# and pandas for pre processing data and plotting\n",
    "import matplotlib.pyplot as plt\n",
    "import pandas as pd\n",
    "import numpy as np"
   ]
  },
  {
   "cell_type": "code",
   "execution_count": 11,
   "metadata": {},
   "outputs": [
    {
     "name": "stdout",
     "output_type": "stream",
     "text": [
      "   Unnamed: 0  match_id  season_year championship_name     id  goals  \\\n",
      "0           0      5149         2014           Serie_A  46551      0   \n",
      "1           1      5149         2014           Serie_A  46552      0   \n",
      "2           2      5149         2014           Serie_A  46553      0   \n",
      "3           3      5149         2014           Serie_A  46554      0   \n",
      "4           4      5149         2014           Serie_A  46555      0   \n",
      "\n",
      "   own_goals  shots   xG  time  ...  yellow_card  red_card roster_in  \\\n",
      "0          0      0  0.0    90  ...            0         0         0   \n",
      "1          0      0  0.0    90  ...            0         0         0   \n",
      "2          0      0  0.0    90  ...            1         0         0   \n",
      "3          0      0  0.0    90  ...            0         0         0   \n",
      "4          1      0  0.0    90  ...            0         0         0   \n",
      "\n",
      "  roster_out key_passes  assists        xA   xGChain  xGBuildup  positionOrder  \n",
      "0          0          0        0  0.000000  0.000000   0.000000              1  \n",
      "1          0          1        0  0.019183  0.019183   0.000000              2  \n",
      "2          0          0        0  0.000000  0.019183   0.019183              3  \n",
      "3          0          0        0  0.000000  0.019183   0.019183              3  \n",
      "4          0          1        0  0.009113  0.028296   0.028296              4  \n",
      "\n",
      "[5 rows x 25 columns]\n",
      "   Unnamed: 0     id championship_name  minute       result      X      Y  \\\n",
      "0           0  41439           Serie_A       2  MissedShots  0.845  0.641   \n",
      "1           1  41444           Serie_A       5      OwnGoal  0.009  0.539   \n",
      "2           2  41445           Serie_A       7    SavedShot  0.896  0.373   \n",
      "3           3  41446           Serie_A       8  MissedShots  0.875  0.661   \n",
      "4           4  41451           Serie_A      19  MissedShots  0.813  0.180   \n",
      "\n",
      "         xG              player h_a  ...  season       shotType  match_id  \\\n",
      "0  0.009113          Maxi López   h  ...    2014           Head      5149   \n",
      "1  0.000000   Cristiano Biraghi   h  ...    2014  OtherBodyPart      5149   \n",
      "2  0.019183  Ezequiel Schelotto   h  ...    2014           Head      5149   \n",
      "3  0.042726          Maxi López   h  ...    2014      RightFoot      5149   \n",
      "4  0.015839        Valter Birsa   h  ...    2014       LeftFoot      5149   \n",
      "\n",
      "   h_team    a_team h_goals a_goals                 date     player_assisted  \\\n",
      "0  Chievo  Juventus       0       1  2014-08-30 17:00:00   Cristiano Biraghi   \n",
      "1  Chievo  Juventus       0       1  2014-08-30 17:00:00                 NaN   \n",
      "2  Chievo  Juventus       0       1  2014-08-30 17:00:00        Nicolas Frey   \n",
      "3  Chievo  Juventus       0       1  2014-08-30 17:00:00  Ezequiel Schelotto   \n",
      "4  Chievo  Juventus       0       1  2014-08-30 17:00:00    Perparim Hetemaj   \n",
      "\n",
      "        lastAction  \n",
      "0            Cross  \n",
      "1  CrossNotClaimed  \n",
      "2            Cross  \n",
      "3             Pass  \n",
      "4             Pass  \n",
      "\n",
      "[5 rows x 22 columns]\n"
     ]
    }
   ],
   "source": [
    "# In the previous script I created couple f dataset for all the matches n the italian championship\n",
    "# those data have been then stored in two CSV file that we can now read and use\n",
    "df_shots = pd.read_csv('shots_df.csv')\n",
    "df_roasters = pd.read_csv('roasters_df.csv')\n",
    "print(df_shots.head())\n",
    "print(df_roasters.head())\n",
    "# ok this was easy"
   ]
  },
  {
   "cell_type": "code",
   "execution_count": 22,
   "metadata": {},
   "outputs": [
    {
     "name": "stdout",
     "output_type": "stream",
     "text": [
      "       Unnamed: 0      id championship_name  minute     result      X    Y  \\\n",
      "83             83   41503           Serie_A      63       Goal  0.885  0.5   \n",
      "105           105   41519           Serie_A      93  SavedShot  0.885  0.5   \n",
      "195           195   41593           Serie_A      19  SavedShot  0.885  0.5   \n",
      "349           349   41854           Serie_A      26  SavedShot  0.885  0.5   \n",
      "424           424   41667           Serie_A      84       Goal  0.885  0.5   \n",
      "...           ...     ...               ...     ...        ...    ...  ...   \n",
      "57430       57430  347604           Serie_A      48       Goal  0.885  0.5   \n",
      "57466       57466  348011           Serie_A      68       Goal  0.885  0.5   \n",
      "57502       57502  348216           Serie_A      84       Goal  0.885  0.5   \n",
      "57525       57525  348293           Serie_A      89       Goal  0.885  0.5   \n",
      "57675       57675  349867           Serie_A      88  SavedShot  0.885  0.5   \n",
      "\n",
      "             xG             player h_a  ...  season   shotType  match_id  \\\n",
      "83     0.761299       Jérémy Menez   h  ...    2014  RightFoot      5152   \n",
      "105    0.761299   Antonio Candreva   a  ...    2014  RightFoot      5152   \n",
      "195    0.761299   Marcelo Larrondo   h  ...    2014  RightFoot      5157   \n",
      "349    0.761299    Gonzalo Higuaín   h  ...    2014  RightFoot      5113   \n",
      "424    0.761299       Andrea Cossu   h  ...    2014  RightFoot      5115   \n",
      "...         ...                ...  ..  ...     ...        ...       ...   \n",
      "57430  0.761259    Lorenzo Insigne   a  ...    2019  RightFoot     13331   \n",
      "57466  0.761299     Andrea Petagna   h  ...    2019   LeftFoot     13336   \n",
      "57502  0.761299       Erick Pulgar   h  ...    2019  RightFoot     13332   \n",
      "57525  0.761259  Domenico Criscito   h  ...    2019   LeftFoot     13333   \n",
      "57675  0.761299         João Pedro   h  ...    2019  RightFoot     13339   \n",
      "\n",
      "           h_team    a_team h_goals a_goals                 date  \\\n",
      "83       AC Milan     Lazio       3       1  2014-08-31 17:00:00   \n",
      "105      AC Milan     Lazio       3       1  2014-08-31 17:00:00   \n",
      "195        Torino     Inter       0       0  2014-08-31 19:45:00   \n",
      "349        Napoli    Chievo       0       1  2014-09-14 14:00:00   \n",
      "424      Cagliari  Atalanta       1       2  2014-09-14 14:00:00   \n",
      "...           ...       ...     ...     ...                  ...   \n",
      "57430     Brescia    Napoli       1       2  2020-02-21 19:45:00   \n",
      "57466   SPAL 2013  Juventus       1       2  2020-02-22 17:00:00   \n",
      "57502  Fiorentina  AC Milan       1       1  2020-02-22 19:45:00   \n",
      "57525       Genoa     Lazio       2       3  2020-02-23 11:30:00   \n",
      "57675    Cagliari      Roma       3       4  2020-03-01 17:00:00   \n",
      "\n",
      "       player_assisted lastAction  \n",
      "83                 NaN   Standard  \n",
      "105                NaN   Standard  \n",
      "195                NaN   Standard  \n",
      "349                NaN   Standard  \n",
      "424                NaN   Standard  \n",
      "...                ...        ...  \n",
      "57430              NaN   Standard  \n",
      "57466              NaN   Standard  \n",
      "57502              NaN   Standard  \n",
      "57525              NaN   Standard  \n",
      "57675              NaN   Standard  \n",
      "\n",
      "[741 rows x 22 columns]\n"
     ]
    }
   ],
   "source": [
    "# So what do we want to plot initially? \n",
    "# Let's think about the relationship between the disciplinary measures and the fact that a team\n",
    "# plays in home or away\n",
    "# Extract only the data in the roasters_df that are related to a penalty situation\n",
    "penalties = df_roasters[df_roasters.situation=='Penalty']\n",
    "print(penalties)"
   ]
  },
  {
   "cell_type": "code",
   "execution_count": 35,
   "metadata": {},
   "outputs": [
    {
     "name": "stdout",
     "output_type": "stream",
     "text": [
      "AWAY\n",
      "   season  h_a\n",
      "0    2014   49\n",
      "1    2015   52\n",
      "2    2016   53\n",
      "3    2017   60\n",
      "4    2018   43\n",
      "5    2019   61\n",
      "\n",
      "HOME\n",
      "   season  h_a\n",
      "0    2014   69\n",
      "1    2015   69\n",
      "2    2016   84\n",
      "3    2017   66\n",
      "4    2018   79\n",
      "5    2019   56\n"
     ]
    }
   ],
   "source": [
    "# Let's plot this data, in a perfect world, what I would expect is that, due to the fact that we are\n",
    "# running this analysis on a huge amount of data, and the events of a penalty should be randomic\n",
    "# and independent as a coin toss, the number of penalties given to the home team should be the same \n",
    "# to the ones given to the away team.\n",
    "# Let's see what the data tells us, if there are some strange relationship\n",
    "# filter only useful columns to be plotted\n",
    "penalties = penalties[['h_a','season']]\n",
    "#print(penalties.values.tolist())\n",
    "print('AWAY')\n",
    "away_plt = penalties[penalties.h_a=='a'].groupby(['season'], as_index=False).count()\n",
    "print(away_plt)\n",
    "print('\\nHOME')\n",
    "home_plt = penalties[penalties.h_a=='h'].groupby(['season'], as_index=False).count()\n",
    "print(home_plt)"
   ]
  },
  {
   "cell_type": "code",
   "execution_count": 37,
   "metadata": {},
   "outputs": [
    {
     "data": {
      "image/png": "[encoded data removed]",
      "text/plain": [
       "<Figure size 432x288 with 1 Axes>"
      ]
     },
     "metadata": {
      "needs_background": "light"
     },
     "output_type": "display_data"
    },
    {
     "data": {
      "image/png": "[encoded data removed]",
      "text/plain": [
       "<Figure size 432x288 with 1 Axes>"
      ]
     },
     "metadata": {
      "needs_background": "light"
     },
     "output_type": "display_data"
    }
   ],
   "source": [
    "# interesting, after 5 seasons , the 2019 is the first year in which the number of penalties given to \n",
    "# the away team has overcomed the one gives to the home team\n",
    "plt.plot(away_plt[['season']], away_plt[['h_a']])\n",
    "plt.show()\n",
    "plt.plot(home_plt[['season']], home_plt[['h_a']])\n",
    "plt.show()"
   ]
  }
 ],
 "metadata": {
  "kernelspec": {
   "display_name": "Python 3",
   "language": "python",
   "name": "python3"
  },
  "language_info": {
   "codemirror_mode": {
    "name": "ipython",
    "version": 3
   },
   "file_extension": ".py",
   "mimetype": "text/x-python",
   "name": "python",
   "nbconvert_exporter": "python",
   "pygments_lexer": "ipython3",
   "version": "3.7.4"
  }
 },
 "nbformat": 4,
 "nbformat_minor": 2
}
