{
 "cells": [
  {
   "cell_type": "code",
   "execution_count": 1,
   "metadata": {},
   "outputs": [],
   "source": [
    "# hey guys good morning\n",
    "# today I'm going to iterate the script that reads all the informations related to a match\n",
    "# for all the matches for all the major series for all the season\n",
    "# let's start\n",
    "import numpy as np\n",
    "import pandas as pd\n",
    "import requests\n",
    "import json\n",
    "from bs4 import BeautifulSoup\n"
   ]
  },
  {
   "cell_type": "code",
   "execution_count": 2,
   "metadata": {},
   "outputs": [],
   "source": [
    "def clean_json_data(json_string_with_data):\n",
    "    data = []\n",
    "    for message in json_string_with_data:\n",
    "        ind_start = message.index(\"('\")+2\n",
    "        ind_end = message.index(\"')\")\n",
    "        json_data = message[ind_start:ind_end]\n",
    "        json_data = json_data.encode('utf8').decode('unicode_escape')\n",
    "        data.append(json.loads(json_data))\n",
    "    return data"
   ]
  },
  {
   "cell_type": "code",
   "execution_count": 4,
   "metadata": {
    "scrolled": true
   },
   "outputs": [
    {
     "ename": "IndexError",
     "evalue": "list index out of range",
     "output_type": "error",
     "traceback": [
      "\u001b[1;31m---------------------------------------------------------------------------\u001b[0m",
      "\u001b[1;31mIndexError\u001b[0m                                Traceback (most recent call last)",
      "\u001b[1;32m<ipython-input-4-5591fd332fd8>\u001b[0m in \u001b[0;36m<module>\u001b[1;34m\u001b[0m\n\u001b[0;32m     21\u001b[0m \u001b[1;31m# let's do that in a function, beause it is something that we always do\u001b[0m\u001b[1;33m\u001b[0m\u001b[1;33m\u001b[0m\u001b[1;33m\u001b[0m\u001b[0m\n\u001b[0;32m     22\u001b[0m \u001b[0mdata\u001b[0m \u001b[1;33m=\u001b[0m \u001b[0mclean_json_data\u001b[0m\u001b[1;33m(\u001b[0m\u001b[0mjson_string_with_data\u001b[0m\u001b[1;33m)\u001b[0m\u001b[1;33m\u001b[0m\u001b[1;33m\u001b[0m\u001b[0m\n\u001b[1;32m---> 23\u001b[1;33m \u001b[0mprint\u001b[0m\u001b[1;33m(\u001b[0m\u001b[0mdata\u001b[0m\u001b[1;33m[\u001b[0m\u001b[1;36m0\u001b[0m\u001b[1;33m]\u001b[0m\u001b[1;33m)\u001b[0m \u001b[1;31m# it is huge\u001b[0m\u001b[1;33m\u001b[0m\u001b[1;33m\u001b[0m\u001b[0m\n\u001b[0m\u001b[0;32m     24\u001b[0m \u001b[1;31m# ok found!\u001b[0m\u001b[1;33m\u001b[0m\u001b[1;33m\u001b[0m\u001b[1;33m\u001b[0m\u001b[0m\n\u001b[0;32m     25\u001b[0m \u001b[1;31m# the list of all the match ids is in the data[0] so it means in the script file called datesData\u001b[0m\u001b[1;33m\u001b[0m\u001b[1;33m\u001b[0m\u001b[1;33m\u001b[0m\u001b[0m\n",
      "\u001b[1;31mIndexError\u001b[0m: list index out of range"
     ]
    }
   ],
   "source": [
    "# let's see for a given series for a given year where are stored the id for each match in that season\n",
    "url = 'https://understat.com/league/Serie_A/2018'\n",
    "res = requests.get(url)\n",
    "soup = BeautifulSoup(res.content, \"lxml\")\n",
    "# ok just in this link there are tons of data, cool!\n",
    "# the available json data are stored in the tag script named datesData, teamsData and playersData\n",
    "# let's find and clean all of this data\n",
    "scripts = soup.find_all('script')\n",
    "json_string_with_data = []\n",
    "# got it, now the json data are located only under the variable name shotsData and under rostersData\n",
    "# add those strings to a list of strings\n",
    "for el in scripts:\n",
    "    if 'datesData' in el.text:\n",
    "        json_string_with_data.append(el.text.strip())\n",
    "    if 'teamsData' in el.text:\n",
    "        json_string_with_data.append(el.text.strip())\n",
    "    if 'playersData' in el.text:\n",
    "        json_string_with_data.append(el.text.strip())\n",
    "# finally let's do some magic in order to get a clean json file with the data, so that we can \n",
    "# easily understand where the interesting data are\n",
    "# let's do that in a function, beause it is something that we always do\n",
    "data = clean_json_data(json_string_with_data)\n",
    "print(data[0]) # it is huge\n",
    "# ok found!\n",
    "# the list of all the match ids is in the data[0] so it means in the script file called datesData\n",
    "# now the only part that is missing is to extract all the match ids in a list\n"
   ]
  },
  {
   "cell_type": "code",
   "execution_count": 9,
   "metadata": {},
   "outputs": [
    {
     "name": "stdout",
     "output_type": "stream",
     "text": [
      "{'id': '13089', 'isResult': True, 'h': {'id': '230', 'title': 'Parma Calcio 1913', 'short_title': 'PAR'}, 'a': {'id': '98', 'title': 'Juventus', 'short_title': 'JUV'}, 'goals': {'h': '0', 'a': '1'}, 'xG': {'h': '0.264026', 'a': '1.88829'}, 'datetime': '2019-08-24 17:00:00', 'forecast': {'w': '0.0307', 'd': '0.1393', 'l': '0.83'}}\n",
      "      id  isResult                                                  h  \\\n",
      "0  13089      True  {'id': '230', 'title': 'Parma Calcio 1913', 's...   \n",
      "1  13090      True  {'id': '110', 'title': 'Fiorentina', 'short_ti...   \n",
      "2  13091      True  {'id': '99', 'title': 'Udinese', 'short_title'...   \n",
      "3  13092      True  {'id': '94', 'title': 'Verona', 'short_title':...   \n",
      "4  13093      True  {'id': '95', 'title': 'Roma', 'short_title': '...   \n",
      "\n",
      "                                                   a                 goals  \\\n",
      "0  {'id': '98', 'title': 'Juventus', 'short_title...  {'h': '0', 'a': '1'}   \n",
      "1  {'id': '105', 'title': 'Napoli', 'short_title'...  {'h': '3', 'a': '4'}   \n",
      "2  {'id': '111', 'title': 'AC Milan', 'short_titl...  {'h': '1', 'a': '0'}   \n",
      "3  {'id': '97', 'title': 'Bologna', 'short_title'...  {'h': '1', 'a': '1'}   \n",
      "4  {'id': '101', 'title': 'Genoa', 'short_title':...  {'h': '3', 'a': '3'}   \n",
      "\n",
      "                                   xG             datetime  \\\n",
      "0   {'h': '0.264026', 'a': '1.88829'}  2019-08-24 17:00:00   \n",
      "1    {'h': '1.94205', 'a': '1.94511'}  2019-08-24 19:45:00   \n",
      "2  {'h': '0.777545', 'a': '0.633654'}  2019-08-25 17:00:00   \n",
      "3      {'h': '0.109745', 'a': '2.11'}  2019-08-25 19:45:00   \n",
      "4      {'h': '2.6256', 'a': '1.1259'}  2019-08-25 19:45:00   \n",
      "\n",
      "                                        forecast  \n",
      "0    {'w': '0.0307', 'd': '0.1393', 'l': '0.83'}  \n",
      "1  {'w': '0.3514', 'd': '0.2841', 'l': '0.3645'}  \n",
      "2   {'w': '0.3514', 'd': '0.378', 'l': '0.2706'}  \n",
      "3  {'w': '0.0058', 'd': '0.0744', 'l': '0.9198'}  \n",
      "4  {'w': '0.7446', 'd': '0.1745', 'l': '0.0809'}  \n",
      "        id  isResult                                                  h  \\\n",
      "246  13334     False  {'id': '106', 'title': 'Inter', 'short_title':...   \n",
      "251  13345     False  {'id': '230', 'title': 'Parma Calcio 1913', 's...   \n",
      "252  13343     False  {'id': '111', 'title': 'AC Milan', 'short_titl...   \n",
      "253  13346     False  {'id': '102', 'title': 'Sampdoria', 'short_tit...   \n",
      "254  13348     False  {'id': '99', 'title': 'Udinese', 'short_title'...   \n",
      "\n",
      "                                                     a  \\\n",
      "246  {'id': '102', 'title': 'Sampdoria', 'short_tit...   \n",
      "251  {'id': '221', 'title': 'SPAL 2013', 'short_tit...   \n",
      "252  {'id': '101', 'title': 'Genoa', 'short_title':...   \n",
      "253  {'id': '94', 'title': 'Verona', 'short_title':...   \n",
      "254  {'id': '110', 'title': 'Fiorentina', 'short_ti...   \n",
      "\n",
      "                      goals                      xG             datetime  \\\n",
      "246  {'h': None, 'a': None}  {'h': None, 'a': None}  2020-02-23 19:45:00   \n",
      "251  {'h': None, 'a': None}  {'h': None, 'a': None}  2020-03-08 11:30:00   \n",
      "252  {'h': None, 'a': None}  {'h': None, 'a': None}  2020-03-08 14:00:00   \n",
      "253  {'h': None, 'a': None}  {'h': None, 'a': None}  2020-03-08 14:00:00   \n",
      "254  {'h': None, 'a': None}  {'h': None, 'a': None}  2020-03-08 17:00:00   \n",
      "\n",
      "    forecast  \n",
      "246     None  \n",
      "251     None  \n",
      "252     None  \n",
      "253     None  \n",
      "254     None  \n",
      "246    13334\n",
      "251    13345\n",
      "252    13343\n",
      "253    13346\n",
      "254    13348\n",
      "       ...  \n",
      "375    13464\n",
      "376    13465\n",
      "377    13466\n",
      "378    13467\n",
      "379    13468\n",
      "Name: id, Length: 130, dtype: object\n"
     ]
    }
   ],
   "source": [
    "# ok so data is an array with only an element, extract that one and then, foreach entry in the \n",
    "# data[0] extract the columns and the values and store those in a data set\n",
    "for i, item in enumerate(data[0]):\n",
    "    print(data[0][i])\n",
    "    break\n",
    "# this works, now let's iterate for all the items\n",
    "columns = list(data[0][0].keys())\n",
    "values = []\n",
    "for i, item in enumerate(data[0]):\n",
    "    values.append(list(data[0][i].values()))\n",
    "# ok ready to dreate the dataset with pandas\n",
    "df = pd.DataFrame(values, columns=columns)\n",
    "print(df.head())\n",
    "# works perfectly, let's now just extract the first column called id, that is the list of all the matches\n",
    "# in a season in which itherate for the http requests\n",
    "df = df[df.isResult == False]\n",
    "print(df.head())\n",
    "matches = df['id']\n",
    "print(matches)"
   ]
  }
 ],
 "metadata": {
  "kernelspec": {
   "display_name": "Python 3",
   "language": "python",
   "name": "python3"
  },
  "language_info": {
   "codemirror_mode": {
    "name": "ipython",
    "version": 3
   },
   "file_extension": ".py",
   "mimetype": "text/x-python",
   "name": "python",
   "nbconvert_exporter": "python",
   "pygments_lexer": "ipython3",
   "version": "3.7.4"
  }
 },
 "nbformat": 4,
 "nbformat_minor": 2
}
